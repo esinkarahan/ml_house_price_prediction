{
 "cells": [
  {
   "cell_type": "markdown",
   "metadata": {},
   "source": [
    "# Predict House Price "
   ]
  },
  {
   "cell_type": "markdown",
   "metadata": {},
   "source": [
    "Goal is to create a machine pipeline that can accurately predict the sales price for each house."
   ]
  },
  {
   "cell_type": "markdown",
   "metadata": {},
   "source": [
    "Data is from https://www.kaggle.com/c/house-prices-advanced-regression-techniques"
   ]
  },
  {
   "cell_type": "code",
   "execution_count": 1,
   "metadata": {},
   "outputs": [],
   "source": [
    "import pandas as pd\n",
    "import numpy as np\n",
    "import seaborn as sns\n",
    "import matplotlib.pyplot as plt"
   ]
  },
  {
   "cell_type": "code",
   "execution_count": 2,
   "metadata": {},
   "outputs": [],
   "source": [
    "%matplotlib inline"
   ]
  },
  {
   "cell_type": "code",
   "execution_count": 3,
   "metadata": {},
   "outputs": [
    {
     "name": "stdout",
     "output_type": "stream",
     "text": [
      "3.7.11\n"
     ]
    }
   ],
   "source": [
    "from platform import python_version\n",
    "print(python_version())"
   ]
  },
  {
   "cell_type": "code",
   "execution_count": 4,
   "metadata": {},
   "outputs": [],
   "source": [
    "df = pd.read_csv('train.csv')"
   ]
  },
  {
   "cell_type": "code",
   "execution_count": 5,
   "metadata": {},
   "outputs": [
    {
     "data": {
      "text/html": [
       "<div>\n",
       "<style scoped>\n",
       "    .dataframe tbody tr th:only-of-type {\n",
       "        vertical-align: middle;\n",
       "    }\n",
       "\n",
       "    .dataframe tbody tr th {\n",
       "        vertical-align: top;\n",
       "    }\n",
       "\n",
       "    .dataframe thead th {\n",
       "        text-align: right;\n",
       "    }\n",
       "</style>\n",
       "<table border=\"1\" class=\"dataframe\">\n",
       "  <thead>\n",
       "    <tr style=\"text-align: right;\">\n",
       "      <th></th>\n",
       "      <th>Id</th>\n",
       "      <th>MSSubClass</th>\n",
       "      <th>MSZoning</th>\n",
       "      <th>LotFrontage</th>\n",
       "      <th>LotArea</th>\n",
       "      <th>Street</th>\n",
       "      <th>Alley</th>\n",
       "      <th>LotShape</th>\n",
       "      <th>LandContour</th>\n",
       "      <th>Utilities</th>\n",
       "      <th>...</th>\n",
       "      <th>PoolArea</th>\n",
       "      <th>PoolQC</th>\n",
       "      <th>Fence</th>\n",
       "      <th>MiscFeature</th>\n",
       "      <th>MiscVal</th>\n",
       "      <th>MoSold</th>\n",
       "      <th>YrSold</th>\n",
       "      <th>SaleType</th>\n",
       "      <th>SaleCondition</th>\n",
       "      <th>SalePrice</th>\n",
       "    </tr>\n",
       "  </thead>\n",
       "  <tbody>\n",
       "    <tr>\n",
       "      <th>0</th>\n",
       "      <td>1</td>\n",
       "      <td>60</td>\n",
       "      <td>RL</td>\n",
       "      <td>65.0</td>\n",
       "      <td>8450</td>\n",
       "      <td>Pave</td>\n",
       "      <td>NaN</td>\n",
       "      <td>Reg</td>\n",
       "      <td>Lvl</td>\n",
       "      <td>AllPub</td>\n",
       "      <td>...</td>\n",
       "      <td>0</td>\n",
       "      <td>NaN</td>\n",
       "      <td>NaN</td>\n",
       "      <td>NaN</td>\n",
       "      <td>0</td>\n",
       "      <td>2</td>\n",
       "      <td>2008</td>\n",
       "      <td>WD</td>\n",
       "      <td>Normal</td>\n",
       "      <td>208500</td>\n",
       "    </tr>\n",
       "    <tr>\n",
       "      <th>1</th>\n",
       "      <td>2</td>\n",
       "      <td>20</td>\n",
       "      <td>RL</td>\n",
       "      <td>80.0</td>\n",
       "      <td>9600</td>\n",
       "      <td>Pave</td>\n",
       "      <td>NaN</td>\n",
       "      <td>Reg</td>\n",
       "      <td>Lvl</td>\n",
       "      <td>AllPub</td>\n",
       "      <td>...</td>\n",
       "      <td>0</td>\n",
       "      <td>NaN</td>\n",
       "      <td>NaN</td>\n",
       "      <td>NaN</td>\n",
       "      <td>0</td>\n",
       "      <td>5</td>\n",
       "      <td>2007</td>\n",
       "      <td>WD</td>\n",
       "      <td>Normal</td>\n",
       "      <td>181500</td>\n",
       "    </tr>\n",
       "    <tr>\n",
       "      <th>2</th>\n",
       "      <td>3</td>\n",
       "      <td>60</td>\n",
       "      <td>RL</td>\n",
       "      <td>68.0</td>\n",
       "      <td>11250</td>\n",
       "      <td>Pave</td>\n",
       "      <td>NaN</td>\n",
       "      <td>IR1</td>\n",
       "      <td>Lvl</td>\n",
       "      <td>AllPub</td>\n",
       "      <td>...</td>\n",
       "      <td>0</td>\n",
       "      <td>NaN</td>\n",
       "      <td>NaN</td>\n",
       "      <td>NaN</td>\n",
       "      <td>0</td>\n",
       "      <td>9</td>\n",
       "      <td>2008</td>\n",
       "      <td>WD</td>\n",
       "      <td>Normal</td>\n",
       "      <td>223500</td>\n",
       "    </tr>\n",
       "    <tr>\n",
       "      <th>3</th>\n",
       "      <td>4</td>\n",
       "      <td>70</td>\n",
       "      <td>RL</td>\n",
       "      <td>60.0</td>\n",
       "      <td>9550</td>\n",
       "      <td>Pave</td>\n",
       "      <td>NaN</td>\n",
       "      <td>IR1</td>\n",
       "      <td>Lvl</td>\n",
       "      <td>AllPub</td>\n",
       "      <td>...</td>\n",
       "      <td>0</td>\n",
       "      <td>NaN</td>\n",
       "      <td>NaN</td>\n",
       "      <td>NaN</td>\n",
       "      <td>0</td>\n",
       "      <td>2</td>\n",
       "      <td>2006</td>\n",
       "      <td>WD</td>\n",
       "      <td>Abnorml</td>\n",
       "      <td>140000</td>\n",
       "    </tr>\n",
       "  </tbody>\n",
       "</table>\n",
       "<p>4 rows × 81 columns</p>\n",
       "</div>"
      ],
      "text/plain": [
       "   Id  MSSubClass MSZoning  LotFrontage  LotArea Street Alley LotShape  \\\n",
       "0   1          60       RL         65.0     8450   Pave   NaN      Reg   \n",
       "1   2          20       RL         80.0     9600   Pave   NaN      Reg   \n",
       "2   3          60       RL         68.0    11250   Pave   NaN      IR1   \n",
       "3   4          70       RL         60.0     9550   Pave   NaN      IR1   \n",
       "\n",
       "  LandContour Utilities  ... PoolArea PoolQC Fence MiscFeature MiscVal MoSold  \\\n",
       "0         Lvl    AllPub  ...        0    NaN   NaN         NaN       0      2   \n",
       "1         Lvl    AllPub  ...        0    NaN   NaN         NaN       0      5   \n",
       "2         Lvl    AllPub  ...        0    NaN   NaN         NaN       0      9   \n",
       "3         Lvl    AllPub  ...        0    NaN   NaN         NaN       0      2   \n",
       "\n",
       "  YrSold  SaleType  SaleCondition  SalePrice  \n",
       "0   2008        WD         Normal     208500  \n",
       "1   2007        WD         Normal     181500  \n",
       "2   2008        WD         Normal     223500  \n",
       "3   2006        WD        Abnorml     140000  \n",
       "\n",
       "[4 rows x 81 columns]"
      ]
     },
     "execution_count": 5,
     "metadata": {},
     "output_type": "execute_result"
    }
   ],
   "source": [
    "df.head(4)"
   ]
  },
  {
   "cell_type": "markdown",
   "metadata": {},
   "source": [
    "This dataset contains 1460 observations with 79 features. "
   ]
  },
  {
   "cell_type": "code",
   "execution_count": 6,
   "metadata": {},
   "outputs": [
    {
     "data": {
      "text/plain": [
       "(1460, 81)"
      ]
     },
     "execution_count": 6,
     "metadata": {},
     "output_type": "execute_result"
    }
   ],
   "source": [
    "df.shape"
   ]
  },
  {
   "cell_type": "markdown",
   "metadata": {},
   "source": [
    "We will do following operations:\n",
    "- Check for missing values and discard columns that contain too much missing information\n",
    "- Impute missing values in numerical column by using iterative imputer\n",
    "- Convert categorical columns with onehot encoder\n",
    "- Create pipeline to apply imputing, standard scaling and machine learning models\n",
    "- Test with PCA and without PCA\n",
    "- Choose best parameters for machine learning models\n",
    "- Finally apply on the test dataset provided by kaggle for submission"
   ]
  },
  {
   "cell_type": "markdown",
   "metadata": {},
   "source": [
    "# Data Inspection and Preparation"
   ]
  },
  {
   "cell_type": "code",
   "execution_count": 7,
   "metadata": {},
   "outputs": [],
   "source": [
    "# print percentage of missing values in each column/feature\n",
    "def print_null_percentage(df):\n",
    "    m=df.isnull().sum()\n",
    "    null_columns=[]\n",
    "    print('Feature Name | Num Missing Value | Total Num Value | Percentage')\n",
    "    print('================================================================')\n",
    "    for i,v in enumerate(m):\n",
    "        if v!=0:\n",
    "            print(\"%s %d  %d, P: %0.2f\"%(m.index[i],v,df.shape[0],100*v/df.shape[0]))\n",
    "            null_columns.append(m.index[i])\n",
    "    return null_columns"
   ]
  },
  {
   "cell_type": "code",
   "execution_count": 8,
   "metadata": {},
   "outputs": [
    {
     "name": "stdout",
     "output_type": "stream",
     "text": [
      "Feature Name | Num Missing Value | Total Num Value | Percentage\n",
      "================================================================\n",
      "LotFrontage 259  1460, P: 17.74\n",
      "Alley 1369  1460, P: 93.77\n",
      "MasVnrType 8  1460, P: 0.55\n",
      "MasVnrArea 8  1460, P: 0.55\n",
      "BsmtQual 37  1460, P: 2.53\n",
      "BsmtCond 37  1460, P: 2.53\n",
      "BsmtExposure 38  1460, P: 2.60\n",
      "BsmtFinType1 37  1460, P: 2.53\n",
      "BsmtFinType2 38  1460, P: 2.60\n",
      "Electrical 1  1460, P: 0.07\n",
      "FireplaceQu 690  1460, P: 47.26\n",
      "GarageType 81  1460, P: 5.55\n",
      "GarageYrBlt 81  1460, P: 5.55\n",
      "GarageFinish 81  1460, P: 5.55\n",
      "GarageQual 81  1460, P: 5.55\n",
      "GarageCond 81  1460, P: 5.55\n",
      "PoolQC 1453  1460, P: 99.52\n",
      "Fence 1179  1460, P: 80.75\n",
      "MiscFeature 1406  1460, P: 96.30\n"
     ]
    }
   ],
   "source": [
    "null_columns=print_null_percentage(df)"
   ]
  },
  {
   "cell_type": "code",
   "execution_count": 9,
   "metadata": {},
   "outputs": [],
   "source": [
    "#Drop columns with too many missing values\n",
    "drop_cols = ['Alley','MiscFeature','PoolQC','Fence','MiscFeature']\n",
    "df.drop(columns=drop_cols,axis=1,inplace=True)"
   ]
  },
  {
   "cell_type": "code",
   "execution_count": 10,
   "metadata": {},
   "outputs": [],
   "source": [
    "# Import Relevant Libraries"
   ]
  },
  {
   "cell_type": "code",
   "execution_count": 11,
   "metadata": {},
   "outputs": [],
   "source": [
    "#Use multivariate imputer to impute values for 2 columns\n",
    "from sklearn.model_selection import train_test_split, GridSearchCV, RandomizedSearchCV\n",
    "from sklearn.experimental import enable_iterative_imputer\n",
    "from sklearn.impute import SimpleImputer, IterativeImputer\n",
    "from sklearn.compose import ColumnTransformer\n",
    "from sklearn.linear_model import BayesianRidge\n",
    "from sklearn.pipeline import Pipeline\n",
    "from sklearn.linear_model import Lasso\n",
    "from sklearn.ensemble import RandomForestRegressor\n",
    "from sklearn.preprocessing import StandardScaler, OneHotEncoder, OrdinalEncoder\n",
    "from sklearn.decomposition import PCA, KernelPCA, SparsePCA\n",
    "from sklearn.feature_selection import SelectKBest, chi2\n",
    "import matplotlib.pyplot as plt\n",
    "from sklearn.metrics import mean_squared_error"
   ]
  },
  {
   "cell_type": "code",
   "execution_count": 12,
   "metadata": {},
   "outputs": [],
   "source": [
    "# Log Root Mean Square Error function to quantify the success of predictor \n",
    "def logrmse(y_true, y_pred):\n",
    "    return np.sqrt(np.mean((np.log(y_true)-np.log(y_pred))**2))"
   ]
  },
  {
   "cell_type": "markdown",
   "metadata": {},
   "source": [
    "## Preprocessing"
   ]
  },
  {
   "cell_type": "markdown",
   "metadata": {},
   "source": [
    "We will use a Bayesian method for imputing missing values in numerical columns. \n",
    "\n",
    "Missing values in categorical column will be signed as None and regarded as a new category."
   ]
  },
  {
   "cell_type": "code",
   "execution_count": 13,
   "metadata": {},
   "outputs": [],
   "source": [
    "# Find categorical and numerical features for preprocessing steps. \n",
    "categorical = [c for c in df.columns if df[c].dtype=='object']\n",
    "numerical = list(set(df.columns).difference(set(categorical+['Id','SalePrice'])))"
   ]
  },
  {
   "cell_type": "code",
   "execution_count": 14,
   "metadata": {},
   "outputs": [
    {
     "name": "stdout",
     "output_type": "stream",
     "text": [
      "There are 39 categorical and 36 numerical features\n"
     ]
    }
   ],
   "source": [
    "print('There are {} categorical and {} numerical features'.format(len(categorical), len(numerical)))"
   ]
  },
  {
   "cell_type": "code",
   "execution_count": 15,
   "metadata": {},
   "outputs": [],
   "source": [
    "# Preprocessing steps\n",
    "# Impute missing values\n",
    "iter_imp = IterativeImputer(estimator=BayesianRidge(),\n",
    "                         missing_values=np.nan, \n",
    "                         sample_posterior=True, \n",
    "                         max_iter=100, \n",
    "                         min_value=0, \n",
    "                         random_state=1)\n",
    "# impute missing numerical values by using Bayesian Ridge\n",
    "numerical_transformer = Pipeline(steps = [('imputer',iter_imp),\n",
    "                                          ('scaler',StandardScaler())])\n",
    "# fill missing values as 'None' so that they will be a new category\n",
    "categorical_transformer = Pipeline(steps = [('imputer',SimpleImputer(strategy='constant',fill_value='None')),\n",
    "                                            ('ohe', OneHotEncoder(sparse=False,handle_unknown='ignore'))])\n",
    "ordinal_transformer = Pipeline(steps = [('imputer',SimpleImputer(strategy='constant')),\n",
    "                                        ('ohe', OrdinalEncoder())])\n",
    "preprocessor = ColumnTransformer(transformers = [('num',numerical_transformer,numerical),\n",
    "                                                 ('cat',categorical_transformer,categorical)])"
   ]
  },
  {
   "cell_type": "code",
   "execution_count": 16,
   "metadata": {},
   "outputs": [],
   "source": [
    "# Split dataset into training and test sets"
   ]
  },
  {
   "cell_type": "code",
   "execution_count": 17,
   "metadata": {},
   "outputs": [],
   "source": [
    "X_train,X_test,y_train,y_test = train_test_split(df.iloc[:,1:-1],\n",
    "                                                 df.iloc[:,-1],\n",
    "                                                 test_size=0.33,\n",
    "                                                 random_state=1)"
   ]
  },
  {
   "cell_type": "markdown",
   "metadata": {},
   "source": [
    "# Machine Learning Models"
   ]
  },
  {
   "cell_type": "markdown",
   "metadata": {},
   "source": [
    "## 1. Linear Regression with L1 Regularization (Lasso)"
   ]
  },
  {
   "cell_type": "code",
   "execution_count": 18,
   "metadata": {},
   "outputs": [],
   "source": [
    "# Compare Lasso with and without PCA"
   ]
  },
  {
   "cell_type": "markdown",
   "metadata": {},
   "source": [
    "### 1a. Lasso with PCA "
   ]
  },
  {
   "cell_type": "code",
   "execution_count": 19,
   "metadata": {},
   "outputs": [],
   "source": [
    "pipe_lr_wpca = Pipeline(steps=[('preprocessor', preprocessor),\n",
    "                      ('reduce',PCA(n_components=10)),\n",
    "                      ('classifier', Lasso(alpha=1.0))])"
   ]
  },
  {
   "cell_type": "code",
   "execution_count": 20,
   "metadata": {},
   "outputs": [],
   "source": [
    "# Find the best alpha that gives the maximum validation score\n",
    "alpha = np.logspace(0, 3, num=20, endpoint=True, base=10.0)\n",
    "param_grid=[{\n",
    "    'classifier__alpha': alpha\n",
    "}]"
   ]
  },
  {
   "cell_type": "code",
   "execution_count": 21,
   "metadata": {},
   "outputs": [],
   "source": [
    "gs_lr_wpca = GridSearchCV(pipe_lr_wpca,n_jobs=4, param_grid=param_grid)"
   ]
  },
  {
   "cell_type": "code",
   "execution_count": 22,
   "metadata": {},
   "outputs": [],
   "source": [
    "gs_lr_wpca.fit(X_train, y_train);"
   ]
  },
  {
   "cell_type": "code",
   "execution_count": 23,
   "metadata": {},
   "outputs": [],
   "source": [
    "gs_lr_report = pd.DataFrame(gs_lr_wpca.cv_results_)"
   ]
  },
  {
   "cell_type": "code",
   "execution_count": 24,
   "metadata": {},
   "outputs": [
    {
     "data": {
      "text/plain": [
       "Text(0.5, 1.0, 'Mean test score with PCA')"
      ]
     },
     "execution_count": 24,
     "metadata": {},
     "output_type": "execute_result"
    },
    {
     "data": {
      "image/png": "[encoded data removed]",
      "text/plain": [
       "<Figure size 432x288 with 1 Axes>"
      ]
     },
     "metadata": {
      "needs_background": "light"
     },
     "output_type": "display_data"
    }
   ],
   "source": [
    "plt.plot(gs_lr_report['param_classifier__alpha'],gs_lr_report['mean_test_score'])\n",
    "plt.xlabel('alpha')\n",
    "plt.ylabel('mean test score')\n",
    "plt.title('Mean test score with PCA')"
   ]
  },
  {
   "cell_type": "markdown",
   "metadata": {},
   "source": [
    "### 1b. Lasso without PCA"
   ]
  },
  {
   "cell_type": "code",
   "execution_count": 25,
   "metadata": {},
   "outputs": [],
   "source": [
    "pipe_lr = Pipeline(steps=[('preprocessor', preprocessor),\n",
    "                      ('classifier', Lasso(alpha=1.0))])\n",
    "\n",
    "# Find the best alpha that gives the maximum test score\n",
    "\n",
    "alpha = np.logspace(0, 3, num=20, endpoint=True, base=10.0)\n",
    "param_grid=[{\n",
    "    'classifier__alpha': alpha\n",
    "}]\n",
    "\n",
    "gs_lr_wop = GridSearchCV(pipe_lr,n_jobs=4, param_grid=param_grid)\n",
    "\n",
    "gs_lr_wop.fit(X_train, y_train);"
   ]
  },
  {
   "cell_type": "code",
   "execution_count": 26,
   "metadata": {},
   "outputs": [
    {
     "data": {
      "text/plain": [
       "Text(0.5, 1.0, 'Mean test score without PCA')"
      ]
     },
     "execution_count": 26,
     "metadata": {},
     "output_type": "execute_result"
    },
    {
     "data": {
      "image/png": "[encoded data removed]",
      "text/plain": [
       "<Figure size 432x288 with 1 Axes>"
      ]
     },
     "metadata": {
      "needs_background": "light"
     },
     "output_type": "display_data"
    }
   ],
   "source": [
    "gs_lr_wop_report = pd.DataFrame(gs_lr_wop.cv_results_)\n",
    "plt.plot(gs_lr_wop_report['param_classifier__alpha'],gs_lr_wop_report['mean_test_score'])\n",
    "plt.xlabel('alpha')\n",
    "plt.ylabel('mean test score')\n",
    "plt.title('Mean test score without PCA')"
   ]
  },
  {
   "cell_type": "code",
   "execution_count": 27,
   "metadata": {},
   "outputs": [
    {
     "name": "stdout",
     "output_type": "stream",
     "text": [
      "Lasso with pca, Training score: 0.763\n",
      "Lasso with pca, Test score: 0.818\n",
      "Lasso without pca, Training score: 0.923\n",
      "Lasso without pca, Test score: 0.888\n",
      "---------------------------\n"
     ]
    },
    {
     "name": "stderr",
     "output_type": "stream",
     "text": [
      "/home/esin/anaconda3/lib/python3.7/site-packages/ipykernel_launcher.py:3: RuntimeWarning: invalid value encountered in log\n",
      "  This is separate from the ipykernel package so we can avoid doing imports until\n"
     ]
    },
    {
     "name": "stdout",
     "output_type": "stream",
     "text": [
      "Lasso with pca, Training RMSE: nan\n",
      "Lasso with pca, Test RMSE: 0.199\n",
      "Lasso without pca, Training RMSE: 0.108\n",
      "Lasso without pca, Test RMSE: 0.106\n"
     ]
    }
   ],
   "source": [
    "print(\"Lasso with pca, Training score: %.3f\" % gs_lr_wpca.score(X_train, y_train))\n",
    "print(\"Lasso with pca, Test score: %.3f\" % gs_lr_wpca.score(X_test, y_test))\n",
    "print(\"Lasso without pca, Training score: %.3f\" % gs_lr_wop.score(X_train, y_train))\n",
    "print(\"Lasso without pca, Test score: %.3f\" % gs_lr_wop.score(X_test, y_test))\n",
    "print('---------------------------')\n",
    "print(\"Lasso with pca, Training RMSE: %.3f\" % logrmse(gs_lr_wpca.predict(X_train), y_train.values))\n",
    "print(\"Lasso with pca, Test RMSE: %.3f\" % logrmse(gs_lr_wpca.predict(X_test), y_test))\n",
    "print(\"Lasso without pca, Training RMSE: %.3f\" % logrmse(gs_lr_wop.predict(X_train), y_train))\n",
    "print(\"Lasso without pca, Test RMSE: %.3f\" % logrmse(gs_lr_wop.predict(X_train), y_train))"
   ]
  },
  {
   "cell_type": "markdown",
   "metadata": {},
   "source": [
    "Lasso performs quite well without PCA."
   ]
  },
  {
   "cell_type": "markdown",
   "metadata": {},
   "source": [
    "## Random Forest Regressor"
   ]
  },
  {
   "cell_type": "code",
   "execution_count": 28,
   "metadata": {},
   "outputs": [],
   "source": [
    "# Test with Random Forest Regressor with different PCA types"
   ]
  },
  {
   "cell_type": "code",
   "execution_count": 33,
   "metadata": {},
   "outputs": [],
   "source": [
    "pipe_rf = Pipeline(steps=[('preprocessor', preprocessor),\n",
    "                         ('reduce_dim',PCA()),\n",
    "                         ('classifier', RandomForestRegressor(n_estimators=500,\n",
    "                                                           random_state=42))])"
   ]
  },
  {
   "cell_type": "markdown",
   "metadata": {},
   "source": [
    "Compare different PCA algorithms and number of components"
   ]
  },
  {
   "cell_type": "code",
   "execution_count": 34,
   "metadata": {},
   "outputs": [],
   "source": [
    "n_components = [1, 5, 10, 50]\n",
    "n_estimators_rf = [100,500,1000]\n",
    "param_grid = [\n",
    "    {\n",
    "        'reduce_dim':[PCA(),KernelPCA()],\n",
    "        'reduce_dim__n_components' : n_components,\n",
    "        'classifier__n_estimators': n_estimators_rf\n",
    "    }\n",
    "]\n"
   ]
  },
  {
   "cell_type": "code",
   "execution_count": 36,
   "metadata": {},
   "outputs": [],
   "source": [
    "gs_rf = GridSearchCV(pipe_rf,n_jobs=4,param_grid=param_grid)"
   ]
  },
  {
   "cell_type": "code",
   "execution_count": 37,
   "metadata": {
    "scrolled": true
   },
   "outputs": [],
   "source": [
    "gs_rf.fit(X_train,y_train);"
   ]
  },
  {
   "cell_type": "code",
   "execution_count": 38,
   "metadata": {},
   "outputs": [],
   "source": [
    "gs_rf_report=pd.DataFrame(gs_rf.cv_results_)"
   ]
  },
  {
   "cell_type": "code",
   "execution_count": 39,
   "metadata": {},
   "outputs": [
    {
     "data": {
      "text/html": [
       "<div>\n",
       "<style scoped>\n",
       "    .dataframe tbody tr th:only-of-type {\n",
       "        vertical-align: middle;\n",
       "    }\n",
       "\n",
       "    .dataframe tbody tr th {\n",
       "        vertical-align: top;\n",
       "    }\n",
       "\n",
       "    .dataframe thead th {\n",
       "        text-align: right;\n",
       "    }\n",
       "</style>\n",
       "<table border=\"1\" class=\"dataframe\">\n",
       "  <thead>\n",
       "    <tr style=\"text-align: right;\">\n",
       "      <th></th>\n",
       "      <th>mean_fit_time</th>\n",
       "      <th>std_fit_time</th>\n",
       "      <th>mean_score_time</th>\n",
       "      <th>std_score_time</th>\n",
       "      <th>param_classifier__n_estimators</th>\n",
       "      <th>param_reduce_dim</th>\n",
       "      <th>param_reduce_dim__n_components</th>\n",
       "      <th>params</th>\n",
       "      <th>split0_test_score</th>\n",
       "      <th>split1_test_score</th>\n",
       "      <th>split2_test_score</th>\n",
       "      <th>split3_test_score</th>\n",
       "      <th>split4_test_score</th>\n",
       "      <th>mean_test_score</th>\n",
       "      <th>std_test_score</th>\n",
       "      <th>rank_test_score</th>\n",
       "    </tr>\n",
       "  </thead>\n",
       "  <tbody>\n",
       "    <tr>\n",
       "      <th>0</th>\n",
       "      <td>51.652182</td>\n",
       "      <td>1.662478</td>\n",
       "      <td>1.412773</td>\n",
       "      <td>0.097149</td>\n",
       "      <td>100</td>\n",
       "      <td>PCA(n_components=10)</td>\n",
       "      <td>1</td>\n",
       "      <td>{'classifier__n_estimators': 100, 'reduce_dim'...</td>\n",
       "      <td>0.703160</td>\n",
       "      <td>0.757407</td>\n",
       "      <td>0.715395</td>\n",
       "      <td>0.835991</td>\n",
       "      <td>0.824361</td>\n",
       "      <td>0.767263</td>\n",
       "      <td>0.054553</td>\n",
       "      <td>20</td>\n",
       "    </tr>\n",
       "    <tr>\n",
       "      <th>1</th>\n",
       "      <td>54.298085</td>\n",
       "      <td>1.279450</td>\n",
       "      <td>1.446241</td>\n",
       "      <td>0.095829</td>\n",
       "      <td>100</td>\n",
       "      <td>PCA(n_components=10)</td>\n",
       "      <td>5</td>\n",
       "      <td>{'classifier__n_estimators': 100, 'reduce_dim'...</td>\n",
       "      <td>0.827896</td>\n",
       "      <td>0.832613</td>\n",
       "      <td>0.787731</td>\n",
       "      <td>0.900994</td>\n",
       "      <td>0.899477</td>\n",
       "      <td>0.849742</td>\n",
       "      <td>0.044082</td>\n",
       "      <td>5</td>\n",
       "    </tr>\n",
       "    <tr>\n",
       "      <th>2</th>\n",
       "      <td>54.539925</td>\n",
       "      <td>1.098607</td>\n",
       "      <td>1.434471</td>\n",
       "      <td>0.094646</td>\n",
       "      <td>100</td>\n",
       "      <td>PCA(n_components=10)</td>\n",
       "      <td>10</td>\n",
       "      <td>{'classifier__n_estimators': 100, 'reduce_dim'...</td>\n",
       "      <td>0.824391</td>\n",
       "      <td>0.846983</td>\n",
       "      <td>0.779830</td>\n",
       "      <td>0.900517</td>\n",
       "      <td>0.907530</td>\n",
       "      <td>0.851850</td>\n",
       "      <td>0.047819</td>\n",
       "      <td>1</td>\n",
       "    </tr>\n",
       "    <tr>\n",
       "      <th>3</th>\n",
       "      <td>56.425828</td>\n",
       "      <td>1.542438</td>\n",
       "      <td>1.458856</td>\n",
       "      <td>0.151594</td>\n",
       "      <td>100</td>\n",
       "      <td>PCA(n_components=10)</td>\n",
       "      <td>50</td>\n",
       "      <td>{'classifier__n_estimators': 100, 'reduce_dim'...</td>\n",
       "      <td>0.791333</td>\n",
       "      <td>0.838095</td>\n",
       "      <td>0.757142</td>\n",
       "      <td>0.904165</td>\n",
       "      <td>0.910181</td>\n",
       "      <td>0.840183</td>\n",
       "      <td>0.060465</td>\n",
       "      <td>13</td>\n",
       "    </tr>\n",
       "    <tr>\n",
       "      <th>4</th>\n",
       "      <td>53.742189</td>\n",
       "      <td>0.934195</td>\n",
       "      <td>1.496450</td>\n",
       "      <td>0.118155</td>\n",
       "      <td>100</td>\n",
       "      <td>KernelPCA()</td>\n",
       "      <td>1</td>\n",
       "      <td>{'classifier__n_estimators': 100, 'reduce_dim'...</td>\n",
       "      <td>0.703139</td>\n",
       "      <td>0.757407</td>\n",
       "      <td>0.715640</td>\n",
       "      <td>0.835991</td>\n",
       "      <td>0.824361</td>\n",
       "      <td>0.767307</td>\n",
       "      <td>0.054512</td>\n",
       "      <td>19</td>\n",
       "    </tr>\n",
       "  </tbody>\n",
       "</table>\n",
       "</div>"
      ],
      "text/plain": [
       "   mean_fit_time  std_fit_time  mean_score_time  std_score_time  \\\n",
       "0      51.652182      1.662478         1.412773        0.097149   \n",
       "1      54.298085      1.279450         1.446241        0.095829   \n",
       "2      54.539925      1.098607         1.434471        0.094646   \n",
       "3      56.425828      1.542438         1.458856        0.151594   \n",
       "4      53.742189      0.934195         1.496450        0.118155   \n",
       "\n",
       "  param_classifier__n_estimators      param_reduce_dim  \\\n",
       "0                            100  PCA(n_components=10)   \n",
       "1                            100  PCA(n_components=10)   \n",
       "2                            100  PCA(n_components=10)   \n",
       "3                            100  PCA(n_components=10)   \n",
       "4                            100           KernelPCA()   \n",
       "\n",
       "  param_reduce_dim__n_components  \\\n",
       "0                              1   \n",
       "1                              5   \n",
       "2                             10   \n",
       "3                             50   \n",
       "4                              1   \n",
       "\n",
       "                                              params  split0_test_score  \\\n",
       "0  {'classifier__n_estimators': 100, 'reduce_dim'...           0.703160   \n",
       "1  {'classifier__n_estimators': 100, 'reduce_dim'...           0.827896   \n",
       "2  {'classifier__n_estimators': 100, 'reduce_dim'...           0.824391   \n",
       "3  {'classifier__n_estimators': 100, 'reduce_dim'...           0.791333   \n",
       "4  {'classifier__n_estimators': 100, 'reduce_dim'...           0.703139   \n",
       "\n",
       "   split1_test_score  split2_test_score  split3_test_score  split4_test_score  \\\n",
       "0           0.757407           0.715395           0.835991           0.824361   \n",
       "1           0.832613           0.787731           0.900994           0.899477   \n",
       "2           0.846983           0.779830           0.900517           0.907530   \n",
       "3           0.838095           0.757142           0.904165           0.910181   \n",
       "4           0.757407           0.715640           0.835991           0.824361   \n",
       "\n",
       "   mean_test_score  std_test_score  rank_test_score  \n",
       "0         0.767263        0.054553               20  \n",
       "1         0.849742        0.044082                5  \n",
       "2         0.851850        0.047819                1  \n",
       "3         0.840183        0.060465               13  \n",
       "4         0.767307        0.054512               19  "
      ]
     },
     "execution_count": 39,
     "metadata": {},
     "output_type": "execute_result"
    }
   ],
   "source": [
    "gs_rf_report.head()"
   ]
  },
  {
   "cell_type": "code",
   "execution_count": 40,
   "metadata": {},
   "outputs": [
    {
     "data": {
      "image/png": "[encoded data removed]",
      "text/plain": [
       "<Figure size 864x432 with 2 Axes>"
      ]
     },
     "metadata": {
      "needs_background": "light"
     },
     "output_type": "display_data"
    }
   ],
   "source": [
    "fig,[ax1,ax2]=plt.subplots(1,2,figsize=(12,6))\n",
    "sns.barplot(data=gs_rf_report[gs_rf_report['param_classifier__n_estimators']==100],\n",
    "            x=\"param_reduce_dim__n_components\", \n",
    "            y=\"mean_test_score\", \n",
    "            hue=\"param_reduce_dim\", \n",
    "            color=\"b\",\n",
    "            ax=ax1)\n",
    "ax1.set(ylabel='mean test score', xlabel='pca components', title='Random Forest Performance (n=100)')\n",
    "handles, labels=ax1.get_legend_handles_labels()\n",
    "ax1.legend(handles, ['PCA','KernelPCA'],title='PCA', loc='lower left');\n",
    "\n",
    "sns.barplot(data=gs_rf_report[gs_rf_report['param_classifier__n_estimators']==500],\n",
    "            x=\"param_reduce_dim__n_components\", \n",
    "            y=\"mean_test_score\", \n",
    "            hue=\"param_reduce_dim\", \n",
    "            color=\"b\",\n",
    "            ax=ax2)\n",
    "ax2.set(ylabel='mean test score', xlabel='pca components', title='Random Forest Performance (n=500)')\n",
    "handles, labels=ax1.get_legend_handles_labels()\n",
    "ax2.legend(handles, ['PCA','KernelPCA'],title='PCA', loc='lower left');\n"
   ]
  },
  {
   "cell_type": "code",
   "execution_count": 41,
   "metadata": {},
   "outputs": [
    {
     "name": "stdout",
     "output_type": "stream",
     "text": [
      "Random Forest Regression, Training score: 0.966\n",
      "Random Forest Regression, Test score: 0.862\n",
      "---------------------------\n",
      "Random Forest Regression, Training RMSE: 0.075\n",
      "Random Forest Regression, Test RMSE: 0.162\n"
     ]
    }
   ],
   "source": [
    "print(\"Random Forest Regression, Training score: %.3f\" %gs_rf.score(X_train, y_train))\n",
    "print(\"Random Forest Regression, Test score: %.3f\" % gs_rf.score(X_test, y_test))\n",
    "print('---------------------------')\n",
    "print(\"Random Forest Regression, Training RMSE: %.3f\" % logrmse(gs_rf.predict(X_train), y_train))\n",
    "print(\"Random Forest Regression, Test RMSE: %.3f\" % logrmse(gs_rf.predict(X_test), y_test))\n"
   ]
  },
  {
   "cell_type": "markdown",
   "metadata": {},
   "source": [
    "## Gradient Boosting Regression"
   ]
  },
  {
   "cell_type": "code",
   "execution_count": 42,
   "metadata": {},
   "outputs": [],
   "source": [
    "# Ensemble of weak classifiers"
   ]
  },
  {
   "cell_type": "code",
   "execution_count": 43,
   "metadata": {},
   "outputs": [],
   "source": [
    "from sklearn.inspection import permutation_importance\n",
    "#feature_importances_\n",
    "from sklearn.ensemble import GradientBoostingRegressor"
   ]
  },
  {
   "cell_type": "code",
   "execution_count": 44,
   "metadata": {},
   "outputs": [],
   "source": [
    "pipe_boost = Pipeline(steps=[('preprocessor',preprocessor),\n",
    "              ('classifier', GradientBoostingRegressor(loss='lad',min_samples_split=5))])\n"
   ]
  },
  {
   "cell_type": "markdown",
   "metadata": {},
   "source": [
    "We will find the effect of learning rate and maximum depth of weak classifiers on the Gradient Boosting Regression performance"
   ]
  },
  {
   "cell_type": "code",
   "execution_count": 45,
   "metadata": {},
   "outputs": [],
   "source": [
    "n_estimators_gb = [500,1000, 1200]\n",
    "lr = [0.1, 0.05, 0.01, 0.001]\n",
    "max_depth = [3,4,5]\n",
    "param_grid = [\n",
    "    {\n",
    "        'classifier__learning_rate' : lr,\n",
    "        'classifier__n_estimators': n_estimators_gb,\n",
    "        'classifier__max_depth': max_depth\n",
    "    }\n",
    "]\n"
   ]
  },
  {
   "cell_type": "code",
   "execution_count": 46,
   "metadata": {},
   "outputs": [],
   "source": [
    "gs_gb = GridSearchCV(pipe_boost,n_jobs=3, param_grid=param_grid)"
   ]
  },
  {
   "cell_type": "code",
   "execution_count": 47,
   "metadata": {},
   "outputs": [],
   "source": [
    "gs_gb.fit(X_train,y_train);"
   ]
  },
  {
   "cell_type": "code",
   "execution_count": 48,
   "metadata": {},
   "outputs": [],
   "source": [
    "gs_gb_report=pd.DataFrame(gs_gb.cv_results_)"
   ]
  },
  {
   "cell_type": "code",
   "execution_count": 49,
   "metadata": {},
   "outputs": [
    {
     "data": {
      "text/html": [
       "<div>\n",
       "<style scoped>\n",
       "    .dataframe tbody tr th:only-of-type {\n",
       "        vertical-align: middle;\n",
       "    }\n",
       "\n",
       "    .dataframe tbody tr th {\n",
       "        vertical-align: top;\n",
       "    }\n",
       "\n",
       "    .dataframe thead th {\n",
       "        text-align: right;\n",
       "    }\n",
       "</style>\n",
       "<table border=\"1\" class=\"dataframe\">\n",
       "  <thead>\n",
       "    <tr style=\"text-align: right;\">\n",
       "      <th></th>\n",
       "      <th>mean_fit_time</th>\n",
       "      <th>std_fit_time</th>\n",
       "      <th>mean_score_time</th>\n",
       "      <th>std_score_time</th>\n",
       "      <th>param_classifier__learning_rate</th>\n",
       "      <th>param_classifier__max_depth</th>\n",
       "      <th>param_classifier__n_estimators</th>\n",
       "      <th>params</th>\n",
       "      <th>split0_test_score</th>\n",
       "      <th>split1_test_score</th>\n",
       "      <th>split2_test_score</th>\n",
       "      <th>split3_test_score</th>\n",
       "      <th>split4_test_score</th>\n",
       "      <th>mean_test_score</th>\n",
       "      <th>std_test_score</th>\n",
       "      <th>rank_test_score</th>\n",
       "    </tr>\n",
       "  </thead>\n",
       "  <tbody>\n",
       "    <tr>\n",
       "      <th>0</th>\n",
       "      <td>45.829974</td>\n",
       "      <td>8.109150</td>\n",
       "      <td>0.999174</td>\n",
       "      <td>0.234132</td>\n",
       "      <td>0.1</td>\n",
       "      <td>3</td>\n",
       "      <td>500</td>\n",
       "      <td>{'classifier__learning_rate': 0.1, 'classifier...</td>\n",
       "      <td>0.847526</td>\n",
       "      <td>0.845442</td>\n",
       "      <td>0.769678</td>\n",
       "      <td>0.864916</td>\n",
       "      <td>0.903577</td>\n",
       "      <td>0.846228</td>\n",
       "      <td>0.043590</td>\n",
       "      <td>19</td>\n",
       "    </tr>\n",
       "    <tr>\n",
       "      <th>1</th>\n",
       "      <td>53.136551</td>\n",
       "      <td>8.436962</td>\n",
       "      <td>1.201640</td>\n",
       "      <td>0.373167</td>\n",
       "      <td>0.1</td>\n",
       "      <td>3</td>\n",
       "      <td>1000</td>\n",
       "      <td>{'classifier__learning_rate': 0.1, 'classifier...</td>\n",
       "      <td>0.830612</td>\n",
       "      <td>0.869893</td>\n",
       "      <td>0.783594</td>\n",
       "      <td>0.867740</td>\n",
       "      <td>0.910808</td>\n",
       "      <td>0.852529</td>\n",
       "      <td>0.042806</td>\n",
       "      <td>10</td>\n",
       "    </tr>\n",
       "    <tr>\n",
       "      <th>2</th>\n",
       "      <td>52.428347</td>\n",
       "      <td>10.070871</td>\n",
       "      <td>0.966829</td>\n",
       "      <td>0.184031</td>\n",
       "      <td>0.1</td>\n",
       "      <td>3</td>\n",
       "      <td>1200</td>\n",
       "      <td>{'classifier__learning_rate': 0.1, 'classifier...</td>\n",
       "      <td>0.842007</td>\n",
       "      <td>0.842248</td>\n",
       "      <td>0.810565</td>\n",
       "      <td>0.851997</td>\n",
       "      <td>0.909455</td>\n",
       "      <td>0.851255</td>\n",
       "      <td>0.032281</td>\n",
       "      <td>15</td>\n",
       "    </tr>\n",
       "    <tr>\n",
       "      <th>3</th>\n",
       "      <td>48.648168</td>\n",
       "      <td>8.558362</td>\n",
       "      <td>1.316960</td>\n",
       "      <td>0.121633</td>\n",
       "      <td>0.1</td>\n",
       "      <td>4</td>\n",
       "      <td>500</td>\n",
       "      <td>{'classifier__learning_rate': 0.1, 'classifier...</td>\n",
       "      <td>0.815260</td>\n",
       "      <td>0.863391</td>\n",
       "      <td>0.762700</td>\n",
       "      <td>0.884175</td>\n",
       "      <td>0.911568</td>\n",
       "      <td>0.847419</td>\n",
       "      <td>0.052787</td>\n",
       "      <td>17</td>\n",
       "    </tr>\n",
       "    <tr>\n",
       "      <th>4</th>\n",
       "      <td>55.778568</td>\n",
       "      <td>8.766752</td>\n",
       "      <td>1.110395</td>\n",
       "      <td>0.270809</td>\n",
       "      <td>0.1</td>\n",
       "      <td>4</td>\n",
       "      <td>1000</td>\n",
       "      <td>{'classifier__learning_rate': 0.1, 'classifier...</td>\n",
       "      <td>0.822805</td>\n",
       "      <td>0.877851</td>\n",
       "      <td>0.787018</td>\n",
       "      <td>0.871793</td>\n",
       "      <td>0.898453</td>\n",
       "      <td>0.851584</td>\n",
       "      <td>0.040724</td>\n",
       "      <td>13</td>\n",
       "    </tr>\n",
       "  </tbody>\n",
       "</table>\n",
       "</div>"
      ],
      "text/plain": [
       "   mean_fit_time  std_fit_time  mean_score_time  std_score_time  \\\n",
       "0      45.829974      8.109150         0.999174        0.234132   \n",
       "1      53.136551      8.436962         1.201640        0.373167   \n",
       "2      52.428347     10.070871         0.966829        0.184031   \n",
       "3      48.648168      8.558362         1.316960        0.121633   \n",
       "4      55.778568      8.766752         1.110395        0.270809   \n",
       "\n",
       "  param_classifier__learning_rate param_classifier__max_depth  \\\n",
       "0                             0.1                           3   \n",
       "1                             0.1                           3   \n",
       "2                             0.1                           3   \n",
       "3                             0.1                           4   \n",
       "4                             0.1                           4   \n",
       "\n",
       "  param_classifier__n_estimators  \\\n",
       "0                            500   \n",
       "1                           1000   \n",
       "2                           1200   \n",
       "3                            500   \n",
       "4                           1000   \n",
       "\n",
       "                                              params  split0_test_score  \\\n",
       "0  {'classifier__learning_rate': 0.1, 'classifier...           0.847526   \n",
       "1  {'classifier__learning_rate': 0.1, 'classifier...           0.830612   \n",
       "2  {'classifier__learning_rate': 0.1, 'classifier...           0.842007   \n",
       "3  {'classifier__learning_rate': 0.1, 'classifier...           0.815260   \n",
       "4  {'classifier__learning_rate': 0.1, 'classifier...           0.822805   \n",
       "\n",
       "   split1_test_score  split2_test_score  split3_test_score  split4_test_score  \\\n",
       "0           0.845442           0.769678           0.864916           0.903577   \n",
       "1           0.869893           0.783594           0.867740           0.910808   \n",
       "2           0.842248           0.810565           0.851997           0.909455   \n",
       "3           0.863391           0.762700           0.884175           0.911568   \n",
       "4           0.877851           0.787018           0.871793           0.898453   \n",
       "\n",
       "   mean_test_score  std_test_score  rank_test_score  \n",
       "0         0.846228        0.043590               19  \n",
       "1         0.852529        0.042806               10  \n",
       "2         0.851255        0.032281               15  \n",
       "3         0.847419        0.052787               17  \n",
       "4         0.851584        0.040724               13  "
      ]
     },
     "execution_count": 49,
     "metadata": {},
     "output_type": "execute_result"
    }
   ],
   "source": [
    "gs_gb_report.head()"
   ]
  },
  {
   "cell_type": "code",
   "execution_count": 50,
   "metadata": {},
   "outputs": [
    {
     "data": {
      "image/png": "[encoded data removed]",
      "text/plain": [
       "<Figure size 864x432 with 2 Axes>"
      ]
     },
     "metadata": {
      "needs_background": "light"
     },
     "output_type": "display_data"
    }
   ],
   "source": [
    "fig,[ax1,ax2]=plt.subplots(1,2,figsize=(12,6))\n",
    "sns.lineplot(data=gs_gb_report, \n",
    "             x='param_classifier__learning_rate',\n",
    "             y='mean_test_score',\n",
    "             hue='param_classifier__n_estimators',\n",
    "             style=\"param_classifier__n_estimators\",\n",
    "             ax=ax1, markers=True, dashes=False,\n",
    "             )\n",
    "ax1.set(xlabel='learning rate',ylabel='mean test score', title='Performance of Gradient Boosting')\n",
    "sns.lineplot(data=gs_gb_report,\n",
    "             x='param_classifier__max_depth',\n",
    "             y='mean_test_score',\n",
    "             hue='param_classifier__n_estimators',\n",
    "             style=\"param_classifier__n_estimators\",\n",
    "             ax=ax2, markers=True, dashes=False)\n",
    "ax2.set(xlabel='max depth',ylabel='mean test score', title='Performance of Gradient Boosting');\n"
   ]
  },
  {
   "cell_type": "markdown",
   "metadata": {},
   "source": [
    "Gradient Boosting is robust for different parameter setting."
   ]
  },
  {
   "cell_type": "code",
   "execution_count": 51,
   "metadata": {},
   "outputs": [
    {
     "data": {
      "text/plain": [
       "Pipeline(steps=[('preprocessor',\n",
       "                 ColumnTransformer(transformers=[('num',\n",
       "                                                  Pipeline(steps=[('imputer',\n",
       "                                                                   IterativeImputer(estimator=BayesianRidge(),\n",
       "                                                                                    max_iter=100,\n",
       "                                                                                    min_value=0,\n",
       "                                                                                    random_state=1,\n",
       "                                                                                    sample_posterior=True)),\n",
       "                                                                  ('scaler',\n",
       "                                                                   StandardScaler())]),\n",
       "                                                  ['YrSold', 'BsmtUnfSF',\n",
       "                                                   'GrLivArea', 'MiscVal',\n",
       "                                                   'YearRemodAdd',\n",
       "                                                   'ScreenPorch',\n",
       "                                                   'EnclosedPorch',\n",
       "                                                   'OpenPorchSF', 'PoolArea',\n",
       "                                                   '...\n",
       "                                                   'RoofStyle', 'RoofMatl',\n",
       "                                                   'Exterior1st', 'Exterior2nd',\n",
       "                                                   'MasVnrType', 'ExterQual',\n",
       "                                                   'ExterCond', 'Foundation',\n",
       "                                                   'BsmtQual', 'BsmtCond',\n",
       "                                                   'BsmtExposure',\n",
       "                                                   'BsmtFinType1',\n",
       "                                                   'BsmtFinType2', 'Heating',\n",
       "                                                   'HeatingQC', 'CentralAir',\n",
       "                                                   'Electrical', 'KitchenQual', ...])])),\n",
       "                ('classifier',\n",
       "                 GradientBoostingRegressor(learning_rate=0.05, loss='lad',\n",
       "                                           max_depth=5, min_samples_split=5,\n",
       "                                           n_estimators=1200))])"
      ]
     },
     "execution_count": 51,
     "metadata": {},
     "output_type": "execute_result"
    }
   ],
   "source": [
    "gs_gb.best_estimator_"
   ]
  },
  {
   "cell_type": "code",
   "execution_count": 52,
   "metadata": {},
   "outputs": [
    {
     "name": "stdout",
     "output_type": "stream",
     "text": [
      "Gradient Boosting Regression, Training score: 0.983\n",
      "Gradient Boosting Regression, Test score: 0.897\n",
      "---------------------------\n",
      "Gradient Boosting Regression Training RMSE: 0.051\n",
      "Gradient Boosting Regression, Test RMSE: 0.147\n"
     ]
    }
   ],
   "source": [
    "print(\"Gradient Boosting Regression, Training score: %.3f\" %gs_gb.score(X_train, y_train))\n",
    "print(\"Gradient Boosting Regression, Test score: %.3f\" % gs_gb.score(X_test, y_test))\n",
    "print('---------------------------')\n",
    "print(\"Gradient Boosting Regression Training RMSE: %.3f\" % logrmse(gs_gb.predict(X_train), y_train.values))\n",
    "print(\"Gradient Boosting Regression, Test RMSE: %.3f\" % logrmse(gs_gb.predict(X_test), y_test))\n"
   ]
  },
  {
   "cell_type": "markdown",
   "metadata": {},
   "source": [
    "## XGBOOST"
   ]
  },
  {
   "cell_type": "markdown",
   "metadata": {},
   "source": [
    "XGBOOST is an efficient implementation of Gradient Boosting of decision trees"
   ]
  },
  {
   "cell_type": "code",
   "execution_count": 53,
   "metadata": {},
   "outputs": [],
   "source": [
    "import xgboost as xgb\n",
    "from sklearn.metrics import accuracy_score"
   ]
  },
  {
   "cell_type": "code",
   "execution_count": 54,
   "metadata": {},
   "outputs": [],
   "source": [
    "# Find best hyperparameter set\n",
    "eta = np.arange(0.01,0.21,0.01).tolist()\n",
    "min_child_weight = np.arange(1,11).tolist()\n",
    "max_depth  = np.arange(2,11).tolist()\n",
    "gamma = np.arange(2,11).tolist()\n",
    "lambdaa = np.arange(2,11).tolist()\n",
    "alpha = np.arange(2,11).tolist()\n",
    "colsample_bytree = np.arange(0.4,1.1,0.1).tolist()\n",
    "\n",
    "parameters = {'booster': ['gbtree'],\n",
    "              'eta': eta, \n",
    "              'min_child_weight': min_child_weight,\n",
    "              'max_depth': max_depth, \n",
    "              'gamma': gamma,  \n",
    "              'colsample_bytree': colsample_bytree\n",
    "             }\n",
    "\n",
    "model = xgb.XGBRegressor()\n",
    "gs_xg= RandomizedSearchCV(model,parameters, n_iter = 30)\n"
   ]
  },
  {
   "cell_type": "code",
   "execution_count": 63,
   "metadata": {},
   "outputs": [],
   "source": [
    "X_train_pr = preprocessor.fit_transform(X_train)"
   ]
  },
  {
   "cell_type": "code",
   "execution_count": 57,
   "metadata": {},
   "outputs": [
    {
     "data": {
      "text/plain": [
       "RandomizedSearchCV(estimator=XGBRegressor(base_score=None, booster=None,\n",
       "                                          colsample_bylevel=None,\n",
       "                                          colsample_bynode=None,\n",
       "                                          colsample_bytree=None, gamma=None,\n",
       "                                          gpu_id=None, importance_type='gain',\n",
       "                                          interaction_constraints=None,\n",
       "                                          learning_rate=None,\n",
       "                                          max_delta_step=None, max_depth=None,\n",
       "                                          min_child_weight=None, missing=nan,\n",
       "                                          monotone_constraints=None,\n",
       "                                          n_estimators=100, n_jobs...\n",
       "                                        'colsample_bytree': [0.4, 0.5, 0.6, 0.7,\n",
       "                                                             0.7999999999999999,\n",
       "                                                             0.8999999999999999,\n",
       "                                                             0.9999999999999999],\n",
       "                                        'eta': [0.01, 0.02, 0.03, 0.04, 0.05,\n",
       "                                                0.060000000000000005,\n",
       "                                                0.06999999999999999, 0.08, 0.09,\n",
       "                                                0.09999999999999999, 0.11, 0.12,\n",
       "                                                0.13, 0.14, 0.15000000000000002,\n",
       "                                                0.16, 0.17, 0.18000000000000002,\n",
       "                                                0.19, 0.2],\n",
       "                                        'gamma': [2, 3, 4, 5, 6, 7, 8, 9, 10],\n",
       "                                        'max_depth': [2, 3, 4, 5, 6, 7, 8, 9,\n",
       "                                                      10],\n",
       "                                        'min_child_weight': [1, 2, 3, 4, 5, 6,\n",
       "                                                             7, 8, 9, 10]})"
      ]
     },
     "execution_count": 57,
     "metadata": {},
     "output_type": "execute_result"
    }
   ],
   "source": [
    "gs_xg.fit(X_train_pr, y_train)"
   ]
  },
  {
   "cell_type": "code",
   "execution_count": 65,
   "metadata": {},
   "outputs": [],
   "source": [
    "X_test_pr = preprocessor.transform(X_test)"
   ]
  },
  {
   "cell_type": "code",
   "execution_count": 67,
   "metadata": {},
   "outputs": [
    {
     "name": "stdout",
     "output_type": "stream",
     "text": [
      "Parameters of the best model:\n",
      "{'min_child_weight': 9, 'max_depth': 5, 'gamma': 3, 'eta': 0.17, 'colsample_bytree': 0.7999999999999999, 'booster': 'gbtree'}\n",
      "XGBOOST Train accuracy: 0.99 \n",
      "XGBOOST Test accuracy: 0.89 \n",
      "---------------------------\n",
      "XGBOOST Train RMSE: 0.05 \n",
      "XGBOOST Test RMSE: 0.15 \n"
     ]
    }
   ],
   "source": [
    "#Predicting and accuracy results\n",
    "print(\"Parameters of the best model:\")\n",
    "print(gs_xg.best_params_)\n",
    "print(\"XGBOOST Train accuracy: %.2f \" % (gs_xg.score(X_train_pr,y_train)))\n",
    "print(\"XGBOOST Test accuracy: %.2f \" % (gs_xg.score(X_test_pr,y_test)))\n",
    "print('---------------------------')\n",
    "print(\"XGBOOST Train RMSE: %.2f \" % logrmse(gs_xg.predict(X_train_pr),y_train))\n",
    "print(\"XGBOOST Test RMSE: %.2f \" % logrmse(gs_xg.predict(X_test_pr),y_test))\n"
   ]
  },
  {
   "cell_type": "markdown",
   "metadata": {},
   "source": [
    "# Summary"
   ]
  },
  {
   "cell_type": "code",
   "execution_count": 68,
   "metadata": {},
   "outputs": [],
   "source": [
    "# Accuracy and RMSE comparison of different methods\n",
    "acc,err = [],[]\n",
    "for m in [gs_lr_wpca,gs_lr_wop,gs_rf,gs_gb,gs_xg]:\n",
    "    if m == gs_xg:\n",
    "        acc.append(m.score(X_test_pr,y_test))\n",
    "        err.append(logrmse(m.predict(X_test_pr),y_test))\n",
    "    else:\n",
    "        acc.append(m.score(X_test,y_test))\n",
    "        err.append(logrmse(m.predict(X_test),y_test))"
   ]
  },
  {
   "cell_type": "code",
   "execution_count": 80,
   "metadata": {},
   "outputs": [
    {
     "data": {
      "image/png": "[encoded data removed]",
      "text/plain": [
       "<Figure size 432x288 with 2 Axes>"
      ]
     },
     "metadata": {
      "needs_background": "light"
     },
     "output_type": "display_data"
    }
   ],
   "source": [
    "modelnames=['lasso w pca','lasso w/o pca','random forest','gradient boosting', 'xgboost']\n",
    "fig,(ax1,ax2) = plt.subplots(1,2)\n",
    "ax1.bar(np.arange(len(modelnames)),acc)\n",
    "ax1.set_title('Accuracy')\n",
    "ax2.bar(np.arange(len(modelnames)),err)\n",
    "ax2.set_title('Log RMSE')\n",
    "ax1.set_xticks(range(len(modelnames)))\n",
    "ax2.set_xticks(range(len(modelnames)))\n",
    "ax1.set_xticklabels(modelnames,rotation=90)\n",
    "ax2.set_xticklabels(modelnames,rotation=90)\n",
    "fig.tight_layout()"
   ]
  },
  {
   "cell_type": "code",
   "execution_count": 85,
   "metadata": {},
   "outputs": [
    {
     "name": "stdout",
     "output_type": "stream",
     "text": [
      "Best model in terms of smallest log RMSE is  xgboost\n"
     ]
    }
   ],
   "source": [
    "print('Best model in terms of smallest log RMSE is ',modelnames[np.argmin(err)])"
   ]
  },
  {
   "cell_type": "code",
   "execution_count": 86,
   "metadata": {},
   "outputs": [
    {
     "name": "stdout",
     "output_type": "stream",
     "text": [
      "Best model in terms of highest accuracy is  gradient boosting\n"
     ]
    }
   ],
   "source": [
    "print('Best model in terms of highest accuracy is ',modelnames[np.argmax(acc)])"
   ]
  },
  {
   "cell_type": "markdown",
   "metadata": {},
   "source": [
    "## Test on Submission Dataset"
   ]
  },
  {
   "cell_type": "code",
   "execution_count": 87,
   "metadata": {},
   "outputs": [],
   "source": [
    "df_sub = pd.read_csv('test.csv')"
   ]
  },
  {
   "cell_type": "code",
   "execution_count": 90,
   "metadata": {},
   "outputs": [],
   "source": [
    "# Remove columns that were mostly empty in training set\n",
    "df_sub.drop(columns=drop_cols,axis=1,inplace=True)"
   ]
  },
  {
   "cell_type": "code",
   "execution_count": 91,
   "metadata": {},
   "outputs": [],
   "source": [
    "X_final_test = df_sub.iloc[:,1:]"
   ]
  },
  {
   "cell_type": "code",
   "execution_count": 92,
   "metadata": {},
   "outputs": [
    {
     "name": "stderr",
     "output_type": "stream",
     "text": [
      "/home/esin/anaconda3/lib/python3.7/site-packages/sklearn/linear_model/_bayes.py:331: RuntimeWarning: invalid value encountered in sqrt\n",
      "  y_std = np.sqrt(sigmas_squared_data + (1. / self.alpha_))\n",
      "/home/esin/anaconda3/lib/python3.7/site-packages/sklearn/linear_model/_bayes.py:331: RuntimeWarning: invalid value encountered in sqrt\n",
      "  y_std = np.sqrt(sigmas_squared_data + (1. / self.alpha_))\n",
      "/home/esin/anaconda3/lib/python3.7/site-packages/sklearn/linear_model/_bayes.py:331: RuntimeWarning: invalid value encountered in sqrt\n",
      "  y_std = np.sqrt(sigmas_squared_data + (1. / self.alpha_))\n",
      "/home/esin/anaconda3/lib/python3.7/site-packages/sklearn/linear_model/_bayes.py:331: RuntimeWarning: invalid value encountered in sqrt\n",
      "  y_std = np.sqrt(sigmas_squared_data + (1. / self.alpha_))\n",
      "/home/esin/anaconda3/lib/python3.7/site-packages/sklearn/linear_model/_bayes.py:331: RuntimeWarning: invalid value encountered in sqrt\n",
      "  y_std = np.sqrt(sigmas_squared_data + (1. / self.alpha_))\n",
      "/home/esin/anaconda3/lib/python3.7/site-packages/sklearn/linear_model/_bayes.py:331: RuntimeWarning: invalid value encountered in sqrt\n",
      "  y_std = np.sqrt(sigmas_squared_data + (1. / self.alpha_))\n",
      "/home/esin/anaconda3/lib/python3.7/site-packages/sklearn/linear_model/_bayes.py:331: RuntimeWarning: invalid value encountered in sqrt\n",
      "  y_std = np.sqrt(sigmas_squared_data + (1. / self.alpha_))\n",
      "/home/esin/anaconda3/lib/python3.7/site-packages/sklearn/linear_model/_bayes.py:331: RuntimeWarning: invalid value encountered in sqrt\n",
      "  y_std = np.sqrt(sigmas_squared_data + (1. / self.alpha_))\n",
      "/home/esin/anaconda3/lib/python3.7/site-packages/sklearn/linear_model/_bayes.py:331: RuntimeWarning: invalid value encountered in sqrt\n",
      "  y_std = np.sqrt(sigmas_squared_data + (1. / self.alpha_))\n",
      "/home/esin/anaconda3/lib/python3.7/site-packages/sklearn/linear_model/_bayes.py:331: RuntimeWarning: invalid value encountered in sqrt\n",
      "  y_std = np.sqrt(sigmas_squared_data + (1. / self.alpha_))\n",
      "/home/esin/anaconda3/lib/python3.7/site-packages/sklearn/linear_model/_bayes.py:331: RuntimeWarning: invalid value encountered in sqrt\n",
      "  y_std = np.sqrt(sigmas_squared_data + (1. / self.alpha_))\n",
      "/home/esin/anaconda3/lib/python3.7/site-packages/sklearn/linear_model/_bayes.py:331: RuntimeWarning: invalid value encountered in sqrt\n",
      "  y_std = np.sqrt(sigmas_squared_data + (1. / self.alpha_))\n",
      "/home/esin/anaconda3/lib/python3.7/site-packages/sklearn/linear_model/_bayes.py:331: RuntimeWarning: invalid value encountered in sqrt\n",
      "  y_std = np.sqrt(sigmas_squared_data + (1. / self.alpha_))\n",
      "/home/esin/anaconda3/lib/python3.7/site-packages/sklearn/linear_model/_bayes.py:331: RuntimeWarning: invalid value encountered in sqrt\n",
      "  y_std = np.sqrt(sigmas_squared_data + (1. / self.alpha_))\n",
      "/home/esin/anaconda3/lib/python3.7/site-packages/sklearn/linear_model/_bayes.py:331: RuntimeWarning: invalid value encountered in sqrt\n",
      "  y_std = np.sqrt(sigmas_squared_data + (1. / self.alpha_))\n",
      "/home/esin/anaconda3/lib/python3.7/site-packages/sklearn/linear_model/_bayes.py:331: RuntimeWarning: invalid value encountered in sqrt\n",
      "  y_std = np.sqrt(sigmas_squared_data + (1. / self.alpha_))\n",
      "/home/esin/anaconda3/lib/python3.7/site-packages/sklearn/linear_model/_bayes.py:331: RuntimeWarning: invalid value encountered in sqrt\n",
      "  y_std = np.sqrt(sigmas_squared_data + (1. / self.alpha_))\n",
      "/home/esin/anaconda3/lib/python3.7/site-packages/sklearn/linear_model/_bayes.py:331: RuntimeWarning: invalid value encountered in sqrt\n",
      "  y_std = np.sqrt(sigmas_squared_data + (1. / self.alpha_))\n",
      "/home/esin/anaconda3/lib/python3.7/site-packages/sklearn/linear_model/_bayes.py:331: RuntimeWarning: invalid value encountered in sqrt\n",
      "  y_std = np.sqrt(sigmas_squared_data + (1. / self.alpha_))\n",
      "/home/esin/anaconda3/lib/python3.7/site-packages/sklearn/linear_model/_bayes.py:331: RuntimeWarning: invalid value encountered in sqrt\n",
      "  y_std = np.sqrt(sigmas_squared_data + (1. / self.alpha_))\n",
      "/home/esin/anaconda3/lib/python3.7/site-packages/sklearn/linear_model/_bayes.py:331: RuntimeWarning: invalid value encountered in sqrt\n",
      "  y_std = np.sqrt(sigmas_squared_data + (1. / self.alpha_))\n",
      "/home/esin/anaconda3/lib/python3.7/site-packages/sklearn/linear_model/_bayes.py:331: RuntimeWarning: invalid value encountered in sqrt\n",
      "  y_std = np.sqrt(sigmas_squared_data + (1. / self.alpha_))\n",
      "/home/esin/anaconda3/lib/python3.7/site-packages/sklearn/linear_model/_bayes.py:331: RuntimeWarning: invalid value encountered in sqrt\n",
      "  y_std = np.sqrt(sigmas_squared_data + (1. / self.alpha_))\n",
      "/home/esin/anaconda3/lib/python3.7/site-packages/sklearn/linear_model/_bayes.py:331: RuntimeWarning: invalid value encountered in sqrt\n",
      "  y_std = np.sqrt(sigmas_squared_data + (1. / self.alpha_))\n",
      "/home/esin/anaconda3/lib/python3.7/site-packages/sklearn/linear_model/_bayes.py:331: RuntimeWarning: invalid value encountered in sqrt\n",
      "  y_std = np.sqrt(sigmas_squared_data + (1. / self.alpha_))\n",
      "/home/esin/anaconda3/lib/python3.7/site-packages/sklearn/linear_model/_bayes.py:331: RuntimeWarning: invalid value encountered in sqrt\n",
      "  y_std = np.sqrt(sigmas_squared_data + (1. / self.alpha_))\n",
      "/home/esin/anaconda3/lib/python3.7/site-packages/sklearn/linear_model/_bayes.py:331: RuntimeWarning: invalid value encountered in sqrt\n",
      "  y_std = np.sqrt(sigmas_squared_data + (1. / self.alpha_))\n",
      "/home/esin/anaconda3/lib/python3.7/site-packages/sklearn/linear_model/_bayes.py:331: RuntimeWarning: invalid value encountered in sqrt\n",
      "  y_std = np.sqrt(sigmas_squared_data + (1. / self.alpha_))\n",
      "/home/esin/anaconda3/lib/python3.7/site-packages/sklearn/linear_model/_bayes.py:331: RuntimeWarning: invalid value encountered in sqrt\n",
      "  y_std = np.sqrt(sigmas_squared_data + (1. / self.alpha_))\n",
      "/home/esin/anaconda3/lib/python3.7/site-packages/sklearn/linear_model/_bayes.py:331: RuntimeWarning: invalid value encountered in sqrt\n",
      "  y_std = np.sqrt(sigmas_squared_data + (1. / self.alpha_))\n",
      "/home/esin/anaconda3/lib/python3.7/site-packages/sklearn/linear_model/_bayes.py:331: RuntimeWarning: invalid value encountered in sqrt\n",
      "  y_std = np.sqrt(sigmas_squared_data + (1. / self.alpha_))\n",
      "/home/esin/anaconda3/lib/python3.7/site-packages/sklearn/linear_model/_bayes.py:331: RuntimeWarning: invalid value encountered in sqrt\n",
      "  y_std = np.sqrt(sigmas_squared_data + (1. / self.alpha_))\n",
      "/home/esin/anaconda3/lib/python3.7/site-packages/sklearn/linear_model/_bayes.py:331: RuntimeWarning: invalid value encountered in sqrt\n",
      "  y_std = np.sqrt(sigmas_squared_data + (1. / self.alpha_))\n"
     ]
    }
   ],
   "source": [
    "X_final_test_pr = preprocessor.transform(X_final_test)"
   ]
  },
  {
   "cell_type": "code",
   "execution_count": 101,
   "metadata": {},
   "outputs": [],
   "source": [
    "predictions = gs_xg.predict(X_final_test_pr)"
   ]
  },
  {
   "cell_type": "code",
   "execution_count": 102,
   "metadata": {},
   "outputs": [
    {
     "name": "stderr",
     "output_type": "stream",
     "text": [
      "/home/esin/anaconda3/lib/python3.7/site-packages/sklearn/linear_model/_bayes.py:331: RuntimeWarning: invalid value encountered in sqrt\n",
      "  y_std = np.sqrt(sigmas_squared_data + (1. / self.alpha_))\n",
      "/home/esin/anaconda3/lib/python3.7/site-packages/sklearn/linear_model/_bayes.py:331: RuntimeWarning: invalid value encountered in sqrt\n",
      "  y_std = np.sqrt(sigmas_squared_data + (1. / self.alpha_))\n",
      "/home/esin/anaconda3/lib/python3.7/site-packages/sklearn/linear_model/_bayes.py:331: RuntimeWarning: invalid value encountered in sqrt\n",
      "  y_std = np.sqrt(sigmas_squared_data + (1. / self.alpha_))\n",
      "/home/esin/anaconda3/lib/python3.7/site-packages/sklearn/linear_model/_bayes.py:331: RuntimeWarning: invalid value encountered in sqrt\n",
      "  y_std = np.sqrt(sigmas_squared_data + (1. / self.alpha_))\n",
      "/home/esin/anaconda3/lib/python3.7/site-packages/sklearn/linear_model/_bayes.py:331: RuntimeWarning: invalid value encountered in sqrt\n",
      "  y_std = np.sqrt(sigmas_squared_data + (1. / self.alpha_))\n",
      "/home/esin/anaconda3/lib/python3.7/site-packages/sklearn/linear_model/_bayes.py:331: RuntimeWarning: invalid value encountered in sqrt\n",
      "  y_std = np.sqrt(sigmas_squared_data + (1. / self.alpha_))\n",
      "/home/esin/anaconda3/lib/python3.7/site-packages/sklearn/linear_model/_bayes.py:331: RuntimeWarning: invalid value encountered in sqrt\n",
      "  y_std = np.sqrt(sigmas_squared_data + (1. / self.alpha_))\n",
      "/home/esin/anaconda3/lib/python3.7/site-packages/sklearn/linear_model/_bayes.py:331: RuntimeWarning: invalid value encountered in sqrt\n",
      "  y_std = np.sqrt(sigmas_squared_data + (1. / self.alpha_))\n",
      "/home/esin/anaconda3/lib/python3.7/site-packages/sklearn/linear_model/_bayes.py:331: RuntimeWarning: invalid value encountered in sqrt\n",
      "  y_std = np.sqrt(sigmas_squared_data + (1. / self.alpha_))\n",
      "/home/esin/anaconda3/lib/python3.7/site-packages/sklearn/linear_model/_bayes.py:331: RuntimeWarning: invalid value encountered in sqrt\n",
      "  y_std = np.sqrt(sigmas_squared_data + (1. / self.alpha_))\n",
      "/home/esin/anaconda3/lib/python3.7/site-packages/sklearn/linear_model/_bayes.py:331: RuntimeWarning: invalid value encountered in sqrt\n",
      "  y_std = np.sqrt(sigmas_squared_data + (1. / self.alpha_))\n",
      "/home/esin/anaconda3/lib/python3.7/site-packages/sklearn/linear_model/_bayes.py:331: RuntimeWarning: invalid value encountered in sqrt\n",
      "  y_std = np.sqrt(sigmas_squared_data + (1. / self.alpha_))\n",
      "/home/esin/anaconda3/lib/python3.7/site-packages/sklearn/linear_model/_bayes.py:331: RuntimeWarning: invalid value encountered in sqrt\n",
      "  y_std = np.sqrt(sigmas_squared_data + (1. / self.alpha_))\n",
      "/home/esin/anaconda3/lib/python3.7/site-packages/sklearn/linear_model/_bayes.py:331: RuntimeWarning: invalid value encountered in sqrt\n",
      "  y_std = np.sqrt(sigmas_squared_data + (1. / self.alpha_))\n",
      "/home/esin/anaconda3/lib/python3.7/site-packages/sklearn/linear_model/_bayes.py:331: RuntimeWarning: invalid value encountered in sqrt\n",
      "  y_std = np.sqrt(sigmas_squared_data + (1. / self.alpha_))\n",
      "/home/esin/anaconda3/lib/python3.7/site-packages/sklearn/linear_model/_bayes.py:331: RuntimeWarning: invalid value encountered in sqrt\n",
      "  y_std = np.sqrt(sigmas_squared_data + (1. / self.alpha_))\n",
      "/home/esin/anaconda3/lib/python3.7/site-packages/sklearn/linear_model/_bayes.py:331: RuntimeWarning: invalid value encountered in sqrt\n",
      "  y_std = np.sqrt(sigmas_squared_data + (1. / self.alpha_))\n",
      "/home/esin/anaconda3/lib/python3.7/site-packages/sklearn/linear_model/_bayes.py:331: RuntimeWarning: invalid value encountered in sqrt\n",
      "  y_std = np.sqrt(sigmas_squared_data + (1. / self.alpha_))\n",
      "/home/esin/anaconda3/lib/python3.7/site-packages/sklearn/linear_model/_bayes.py:331: RuntimeWarning: invalid value encountered in sqrt\n",
      "  y_std = np.sqrt(sigmas_squared_data + (1. / self.alpha_))\n",
      "/home/esin/anaconda3/lib/python3.7/site-packages/sklearn/linear_model/_bayes.py:331: RuntimeWarning: invalid value encountered in sqrt\n",
      "  y_std = np.sqrt(sigmas_squared_data + (1. / self.alpha_))\n",
      "/home/esin/anaconda3/lib/python3.7/site-packages/sklearn/linear_model/_bayes.py:331: RuntimeWarning: invalid value encountered in sqrt\n",
      "  y_std = np.sqrt(sigmas_squared_data + (1. / self.alpha_))\n",
      "/home/esin/anaconda3/lib/python3.7/site-packages/sklearn/linear_model/_bayes.py:331: RuntimeWarning: invalid value encountered in sqrt\n",
      "  y_std = np.sqrt(sigmas_squared_data + (1. / self.alpha_))\n",
      "/home/esin/anaconda3/lib/python3.7/site-packages/sklearn/linear_model/_bayes.py:331: RuntimeWarning: invalid value encountered in sqrt\n",
      "  y_std = np.sqrt(sigmas_squared_data + (1. / self.alpha_))\n",
      "/home/esin/anaconda3/lib/python3.7/site-packages/sklearn/linear_model/_bayes.py:331: RuntimeWarning: invalid value encountered in sqrt\n",
      "  y_std = np.sqrt(sigmas_squared_data + (1. / self.alpha_))\n",
      "/home/esin/anaconda3/lib/python3.7/site-packages/sklearn/linear_model/_bayes.py:331: RuntimeWarning: invalid value encountered in sqrt\n",
      "  y_std = np.sqrt(sigmas_squared_data + (1. / self.alpha_))\n",
      "/home/esin/anaconda3/lib/python3.7/site-packages/sklearn/linear_model/_bayes.py:331: RuntimeWarning: invalid value encountered in sqrt\n",
      "  y_std = np.sqrt(sigmas_squared_data + (1. / self.alpha_))\n",
      "/home/esin/anaconda3/lib/python3.7/site-packages/sklearn/linear_model/_bayes.py:331: RuntimeWarning: invalid value encountered in sqrt\n",
      "  y_std = np.sqrt(sigmas_squared_data + (1. / self.alpha_))\n",
      "/home/esin/anaconda3/lib/python3.7/site-packages/sklearn/linear_model/_bayes.py:331: RuntimeWarning: invalid value encountered in sqrt\n",
      "  y_std = np.sqrt(sigmas_squared_data + (1. / self.alpha_))\n",
      "/home/esin/anaconda3/lib/python3.7/site-packages/sklearn/linear_model/_bayes.py:331: RuntimeWarning: invalid value encountered in sqrt\n",
      "  y_std = np.sqrt(sigmas_squared_data + (1. / self.alpha_))\n",
      "/home/esin/anaconda3/lib/python3.7/site-packages/sklearn/linear_model/_bayes.py:331: RuntimeWarning: invalid value encountered in sqrt\n",
      "  y_std = np.sqrt(sigmas_squared_data + (1. / self.alpha_))\n",
      "/home/esin/anaconda3/lib/python3.7/site-packages/sklearn/linear_model/_bayes.py:331: RuntimeWarning: invalid value encountered in sqrt\n",
      "  y_std = np.sqrt(sigmas_squared_data + (1. / self.alpha_))\n",
      "/home/esin/anaconda3/lib/python3.7/site-packages/sklearn/linear_model/_bayes.py:331: RuntimeWarning: invalid value encountered in sqrt\n",
      "  y_std = np.sqrt(sigmas_squared_data + (1. / self.alpha_))\n",
      "/home/esin/anaconda3/lib/python3.7/site-packages/sklearn/linear_model/_bayes.py:331: RuntimeWarning: invalid value encountered in sqrt\n",
      "  y_std = np.sqrt(sigmas_squared_data + (1. / self.alpha_))\n",
      "/home/esin/anaconda3/lib/python3.7/site-packages/sklearn/linear_model/_bayes.py:331: RuntimeWarning: invalid value encountered in sqrt\n",
      "  y_std = np.sqrt(sigmas_squared_data + (1. / self.alpha_))\n",
      "/home/esin/anaconda3/lib/python3.7/site-packages/sklearn/linear_model/_bayes.py:331: RuntimeWarning: invalid value encountered in sqrt\n",
      "  y_std = np.sqrt(sigmas_squared_data + (1. / self.alpha_))\n",
      "/home/esin/anaconda3/lib/python3.7/site-packages/sklearn/linear_model/_bayes.py:331: RuntimeWarning: invalid value encountered in sqrt\n",
      "  y_std = np.sqrt(sigmas_squared_data + (1. / self.alpha_))\n",
      "/home/esin/anaconda3/lib/python3.7/site-packages/sklearn/linear_model/_bayes.py:331: RuntimeWarning: invalid value encountered in sqrt\n",
      "  y_std = np.sqrt(sigmas_squared_data + (1. / self.alpha_))\n",
      "/home/esin/anaconda3/lib/python3.7/site-packages/sklearn/linear_model/_bayes.py:331: RuntimeWarning: invalid value encountered in sqrt\n",
      "  y_std = np.sqrt(sigmas_squared_data + (1. / self.alpha_))\n",
      "/home/esin/anaconda3/lib/python3.7/site-packages/sklearn/linear_model/_bayes.py:331: RuntimeWarning: invalid value encountered in sqrt\n",
      "  y_std = np.sqrt(sigmas_squared_data + (1. / self.alpha_))\n",
      "/home/esin/anaconda3/lib/python3.7/site-packages/sklearn/linear_model/_bayes.py:331: RuntimeWarning: invalid value encountered in sqrt\n",
      "  y_std = np.sqrt(sigmas_squared_data + (1. / self.alpha_))\n",
      "/home/esin/anaconda3/lib/python3.7/site-packages/sklearn/linear_model/_bayes.py:331: RuntimeWarning: invalid value encountered in sqrt\n",
      "  y_std = np.sqrt(sigmas_squared_data + (1. / self.alpha_))\n",
      "/home/esin/anaconda3/lib/python3.7/site-packages/sklearn/linear_model/_bayes.py:331: RuntimeWarning: invalid value encountered in sqrt\n",
      "  y_std = np.sqrt(sigmas_squared_data + (1. / self.alpha_))\n",
      "/home/esin/anaconda3/lib/python3.7/site-packages/sklearn/linear_model/_bayes.py:331: RuntimeWarning: invalid value encountered in sqrt\n",
      "  y_std = np.sqrt(sigmas_squared_data + (1. / self.alpha_))\n",
      "/home/esin/anaconda3/lib/python3.7/site-packages/sklearn/linear_model/_bayes.py:331: RuntimeWarning: invalid value encountered in sqrt\n",
      "  y_std = np.sqrt(sigmas_squared_data + (1. / self.alpha_))\n",
      "/home/esin/anaconda3/lib/python3.7/site-packages/sklearn/linear_model/_bayes.py:331: RuntimeWarning: invalid value encountered in sqrt\n",
      "  y_std = np.sqrt(sigmas_squared_data + (1. / self.alpha_))\n",
      "/home/esin/anaconda3/lib/python3.7/site-packages/sklearn/linear_model/_bayes.py:331: RuntimeWarning: invalid value encountered in sqrt\n",
      "  y_std = np.sqrt(sigmas_squared_data + (1. / self.alpha_))\n",
      "/home/esin/anaconda3/lib/python3.7/site-packages/sklearn/linear_model/_bayes.py:331: RuntimeWarning: invalid value encountered in sqrt\n",
      "  y_std = np.sqrt(sigmas_squared_data + (1. / self.alpha_))\n",
      "/home/esin/anaconda3/lib/python3.7/site-packages/sklearn/linear_model/_bayes.py:331: RuntimeWarning: invalid value encountered in sqrt\n",
      "  y_std = np.sqrt(sigmas_squared_data + (1. / self.alpha_))\n",
      "/home/esin/anaconda3/lib/python3.7/site-packages/sklearn/linear_model/_bayes.py:331: RuntimeWarning: invalid value encountered in sqrt\n",
      "  y_std = np.sqrt(sigmas_squared_data + (1. / self.alpha_))\n"
     ]
    },
    {
     "name": "stderr",
     "output_type": "stream",
     "text": [
      "/home/esin/anaconda3/lib/python3.7/site-packages/sklearn/linear_model/_bayes.py:331: RuntimeWarning: invalid value encountered in sqrt\n",
      "  y_std = np.sqrt(sigmas_squared_data + (1. / self.alpha_))\n",
      "/home/esin/anaconda3/lib/python3.7/site-packages/sklearn/linear_model/_bayes.py:331: RuntimeWarning: invalid value encountered in sqrt\n",
      "  y_std = np.sqrt(sigmas_squared_data + (1. / self.alpha_))\n",
      "/home/esin/anaconda3/lib/python3.7/site-packages/sklearn/linear_model/_bayes.py:331: RuntimeWarning: invalid value encountered in sqrt\n",
      "  y_std = np.sqrt(sigmas_squared_data + (1. / self.alpha_))\n",
      "/home/esin/anaconda3/lib/python3.7/site-packages/sklearn/linear_model/_bayes.py:331: RuntimeWarning: invalid value encountered in sqrt\n",
      "  y_std = np.sqrt(sigmas_squared_data + (1. / self.alpha_))\n",
      "/home/esin/anaconda3/lib/python3.7/site-packages/sklearn/linear_model/_bayes.py:331: RuntimeWarning: invalid value encountered in sqrt\n",
      "  y_std = np.sqrt(sigmas_squared_data + (1. / self.alpha_))\n",
      "/home/esin/anaconda3/lib/python3.7/site-packages/sklearn/linear_model/_bayes.py:331: RuntimeWarning: invalid value encountered in sqrt\n",
      "  y_std = np.sqrt(sigmas_squared_data + (1. / self.alpha_))\n",
      "/home/esin/anaconda3/lib/python3.7/site-packages/sklearn/linear_model/_bayes.py:331: RuntimeWarning: invalid value encountered in sqrt\n",
      "  y_std = np.sqrt(sigmas_squared_data + (1. / self.alpha_))\n",
      "/home/esin/anaconda3/lib/python3.7/site-packages/sklearn/linear_model/_bayes.py:331: RuntimeWarning: invalid value encountered in sqrt\n",
      "  y_std = np.sqrt(sigmas_squared_data + (1. / self.alpha_))\n",
      "/home/esin/anaconda3/lib/python3.7/site-packages/sklearn/linear_model/_bayes.py:331: RuntimeWarning: invalid value encountered in sqrt\n",
      "  y_std = np.sqrt(sigmas_squared_data + (1. / self.alpha_))\n",
      "/home/esin/anaconda3/lib/python3.7/site-packages/sklearn/linear_model/_bayes.py:331: RuntimeWarning: invalid value encountered in sqrt\n",
      "  y_std = np.sqrt(sigmas_squared_data + (1. / self.alpha_))\n",
      "/home/esin/anaconda3/lib/python3.7/site-packages/sklearn/linear_model/_bayes.py:331: RuntimeWarning: invalid value encountered in sqrt\n",
      "  y_std = np.sqrt(sigmas_squared_data + (1. / self.alpha_))\n",
      "/home/esin/anaconda3/lib/python3.7/site-packages/sklearn/linear_model/_bayes.py:331: RuntimeWarning: invalid value encountered in sqrt\n",
      "  y_std = np.sqrt(sigmas_squared_data + (1. / self.alpha_))\n"
     ]
    }
   ],
   "source": [
    "predictions = gs_gb.predict(X_final_test)"
   ]
  },
  {
   "cell_type": "code",
   "execution_count": 103,
   "metadata": {},
   "outputs": [],
   "source": [
    "df_submission = pd.DataFrame(columns=['Id','SalePrice'])"
   ]
  },
  {
   "cell_type": "code",
   "execution_count": 104,
   "metadata": {},
   "outputs": [],
   "source": [
    "df_submission['Id'] = df_sub['Id']"
   ]
  },
  {
   "cell_type": "code",
   "execution_count": 105,
   "metadata": {},
   "outputs": [],
   "source": [
    "df_submission['SalePrice'] = predictions"
   ]
  },
  {
   "cell_type": "code",
   "execution_count": 106,
   "metadata": {},
   "outputs": [],
   "source": [
    "df_submission.to_csv('submission.csv',sep=',',columns=['Id','SalePrice'],index=False)"
   ]
  },
  {
   "cell_type": "code",
   "execution_count": 107,
   "metadata": {},
   "outputs": [
    {
     "data": {
      "text/plain": [
       "(1459, 2)"
      ]
     },
     "execution_count": 107,
     "metadata": {},
     "output_type": "execute_result"
    }
   ],
   "source": [
    "df_submission.shape"
   ]
  }
 ],
 "metadata": {
  "kernelspec": {
   "display_name": "Python 3",
   "language": "python",
   "name": "python3"
  },
  "language_info": {
   "codemirror_mode": {
    "name": "ipython",
    "version": 3
   },
   "file_extension": ".py",
   "mimetype": "text/x-python",
   "name": "python",
   "nbconvert_exporter": "python",
   "pygments_lexer": "ipython3",
   "version": "3.7.11"
  }
 },
 "nbformat": 4,
 "nbformat_minor": 4
}
